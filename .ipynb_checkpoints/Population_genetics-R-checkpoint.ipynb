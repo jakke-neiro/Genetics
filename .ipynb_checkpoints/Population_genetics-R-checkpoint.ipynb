{
 "cells": [
  {
   "cell_type": "markdown",
   "metadata": {},
   "source": [
    "# 8. Molecular evolution\n",
    "## 8.1 The neutral theory\n",
    "* The neutral theory and the predictions for levels of polymorphism and rates of divergence\n",
    "* The nearly neutral theory\n",
    "Molecular evolution: all hypothesis tests in studies of molecular evolution is the use of null and alternative hypotheses for the patterns and rates of sequence change\n",
    "\n",
    "Neutral theory: now forms the basis of the most widely employed null model in molecular evolution. Most mutations have little or no fitness advantage or disadvantage and are therefore selectively neutral. Genetic drift is therefore the primary evolutionary process that dictates the fate (fixation or loss) of newly occurring mutations.\n",
    "\n",
    "1950s and 1960s, most mutations would have substantial fintess differences. Kimura and the neutral theory. \n",
    "\n",
    "The neutral theory null model makes two major predictions under the assumption that genetic drift alone determines the fate of new mutations. One prediction is the amount of polymorphism for sequences sampled within a population of one species. The other prediction is the degree and rate of divergence among sequences sampled from separate species.\n",
    "* **Divergence**: Fixed genetic differences that accumulate between two completely isolated lineages that were originally identical when they diverged from a common ancestor.\n",
    "* **Polymorphism**: The existence in a population of two or more alleles at one locus. Populations with genetic polymorphisms have heterozygosity, gene diversity, or nucleotide diversity measures that are greater than zero."
   ]
  },
  {
   "cell_type": "markdown",
   "metadata": {},
   "source": [
    "### Polymorphism\n",
    "Under neutral theory, polymorphisms results from the transient dynamics of allele frequencies before they reach fixation or loss end points. Formulae for genetic drift apply.\n",
    "\n",
    "For new mutations that start out as one copy in the entire population of $2N$ allele copies, the chance of eventual fixation is $\\frac{1}{2N}$ while the chance of eventual loss is $1-\\frac{1}{2N}$.\n",
    "\n",
    "The average time to fixation of a new mutation approaches $4N$ generations while the average time to loss approaches just $2 \\bigg( \\frac{N_e}{N} \\bigg)\\ln(2N)$ generations as $N$ gets large. \n",
    "\n",
    "An additional way to understand the expected polymorphism of neutral alleles in a population is to examine the equilibrium balance between genetic drift causing alleles to go to fixation and the input of new alleles in a population by mutation. Equilibrium heterozygosity:\n",
    "$$\n",
    "H_{equilibrium} = \\frac{4 N_e \\mu}{4 N_e \\mu + 1}\n",
    "$$"
   ]
  },
  {
   "cell_type": "markdown",
   "metadata": {},
   "source": [
    "### Divergence\n",
    "The neutral theory also predicts the rate of divergence between sequences. Genetic divergence occurs by substitutions that accumulate in two DNA sequences over time. DNA sequences compared between the two species would each experience DNA sequence divergence due to mutations occurring over time.\n",
    "\n",
    "**Substitution**: the complete replacement of one allele previously most frequent in the population with another allele that originally arose by mutation.\n",
    "\n",
    "The intial frequency of a new mutation and the chance of fixation of any neutral allele is $\\frac{1}{2N}$. Each generation, the chance of that an allele copy mutates is $\\mu$ and there are a total of $2N$ allele copies. The expected number of new mutations in a population is\n",
    "$$\n",
    "2N \\mu\n",
    "$$\n",
    "\n",
    "Multiplying the probability of fixation by the expected number of mutations per generations gives the rate at which alleles originally entered the population as mutations go to fixation per generation, symbolized by the substitution rate $k$.\n",
    "$$\n",
    "k = (2 N \\mu)\\frac{1}{2N} \n",
    "$$\n",
    "$$\n",
    "k = \\mu\n",
    "$$\n",
    "This result is remarkable because it says that the probability that a neutral mutation goes to fixation each generation, or the rate of substitution, is simply equal to the mutation rate. This is because a mutation in a smaller population has a greater chance of fixation but there are fewer new mutations each generation."
   ]
  },
  {
   "cell_type": "code",
   "execution_count": null,
   "metadata": {},
   "outputs": [],
   "source": []
  }
 ],
 "metadata": {
  "kernelspec": {
   "display_name": "R",
   "language": "R",
   "name": "ir"
  },
  "language_info": {
   "codemirror_mode": "r",
   "file_extension": ".r",
   "mimetype": "text/x-r-source",
   "name": "R",
   "pygments_lexer": "r",
   "version": "4.0.2"
  }
 },
 "nbformat": 4,
 "nbformat_minor": 4
}
